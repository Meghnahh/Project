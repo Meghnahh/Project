{
 "cells": [
  {
   "cell_type": "code",
   "execution_count": null,
   "metadata": {},
   "outputs": [
    {
     "name": "stdout",
     "output_type": "stream",
     "text": [
      "[nltk_data] Downloading package punkt to\n",
      "[nltk_data]     C:\\Users\\Ammy\\AppData\\Roaming\\nltk_data...\n",
      "[nltk_data]   Package punkt is already up-to-date!\n",
      "[nltk_data] Downloading package stopwords to\n",
      "[nltk_data]     C:\\Users\\Ammy\\AppData\\Roaming\\nltk_data...\n",
      "[nltk_data]   Package stopwords is already up-to-date!\n"
     ]
    }
   ],
   "source": [
    "#importing and downloading the required libraries\n",
    "import re    #regular expression used to modify a string or to split it apart in various ways. To descibe a search pattern\n",
    "import nltk     #natural language toolkit\n",
    "import heapq     #priority queue\n",
    "nltk.download('punkt')     #Text tokenizer \n",
    "nltk.download('stopwords')   #Commonly used words\n",
    "\n",
    "#taking the text from the user\n",
    "text = input(\"Enter some text\")\n",
    "\n",
    "#formatting the article, i.e. removing punctuation, numbers and extra whitespaces\n",
    "'''\n",
    "import re\n",
    "re.sub(\"[^0-9a-zA-Z]\",        # Anything except 0..9, a..z and A..Z\n",
    "       \" \",                    # replaced with space\n",
    "       \"this is a test!!\")    # in this string\n",
    "'''\n",
    "\n",
    "#replace anything except a-zA-Z with ' ' in text\n",
    "txt = re.sub('[^a-zA-Z]', ' ', text ) \n",
    "#Replaces whitespace characters of string with ' ' single space in txt\n",
    "txt = re.sub(r'\\s+', ' ', txt)\n",
    "\n",
    "#separating the formatted text into a list of sentences\n",
    "sentences = nltk.sent_tokenize(text)\n",
    "\n",
    "#defining the stopwords by using a predefined list\n",
    "#Corpus is a large collection of text. Spoken corpus eg- audio\n",
    "stopwords = nltk.corpus.stopwords.words('english')\n",
    "\n",
    "#calculating the frequency of each word and finding the maximum of these frequencies\n",
    "#Dictionary used with keys as words and values as their weighted frequency\n",
    "wordFreq = {}  \n",
    "for word in nltk.word_tokenize(txt.lower()):   #while tokenizing the sentences into individual words, all the words should be lowercase to reduce redundancy \n",
    "    if word not in stopwords:\n",
    "        if word not in wordFreq.keys():\n",
    "            wordFreq[word] = 1\n",
    "        else:\n",
    "            wordFreq[word] += 1\n",
    "maxFreq = max(wordFreq.values())\n",
    "\n",
    "#calulating weighted frequency for the words\n",
    "for word in wordFreq.keys():  \n",
    "    wordFreq[word] = (wordFreq[word]/maxFreq)\n",
    "\n",
    "#calculating sentence scores\n",
    "sentScore = {}    #Sentence is key, score is value\n",
    "for sent in sentences:  #Sent is each sentence in an array of sentences\n",
    "    for word in nltk.word_tokenize(sent.lower()):\n",
    "        if word in wordFreq.keys():\n",
    "            if len(sent.split(' ')) < 30:         #Sentence with 30 words or less is considered to be relevent. Make a list of words in sentence\n",
    "                if sent not in sentScore.keys():\n",
    "                    sentScore[sent] = wordFreq[word]    #calculating the cumulative weighted frequencies of all words in sent\n",
    "                else:\n",
    "                    sentScore[sent] += wordFreq[word]\n",
    "  \n",
    "#getting the highest scored 6 sentences and printing the summary\n",
    "summarySent = heapq.nlargest(6, sentScore, key=sentScore.get)\n",
    "#heapq is a priority queue heapq.nlargest returns a list of n-largest sentence scores(n=6 in this case)\n",
    "summary = ' '.join(summarySent)  #To convert the list into sentences\n",
    "print()  #Separation b/w input text and summary\n",
    "print(summary)"
   ]
  },
  {
   "cell_type": "code",
   "execution_count": null,
   "metadata": {},
   "outputs": [],
   "source": []
  },
  {
   "cell_type": "code",
   "execution_count": null,
   "metadata": {},
   "outputs": [],
   "source": []
  }
 ],
 "metadata": {
  "kernelspec": {
   "display_name": "Python 3",
   "language": "python",
   "name": "python3"
  },
  "language_info": {
   "codemirror_mode": {
    "name": "ipython",
    "version": 3
   },
   "file_extension": ".py",
   "mimetype": "text/x-python",
   "name": "python",
   "nbconvert_exporter": "python",
   "pygments_lexer": "ipython3",
   "version": "3.6.5"
  }
 },
 "nbformat": 4,
 "nbformat_minor": 2
}
